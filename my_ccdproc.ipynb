{
 "cells": [
  {
   "cell_type": "code",
   "execution_count": 1,
   "metadata": {
    "collapsed": false
   },
   "outputs": [],
   "source": [
    "from os import listdir\n",
    "from os.path import isfile, join\n",
    "from astropy.io import fits\n",
    "import numpy as np\n",
    "\n",
    "#making bias master\n",
    "onlyfiles = [join('bias_dark', f) for f in listdir('bias_dark') if isfile(join('bias_dark', f))]\n",
    "frames=np.array([fits.open(f) for f in onlyfiles])\n",
    "zero_imgs=[f[0].data for f in frames if f[0].header['IMAGETYP'] == 'BIAS']\n",
    "zero_cube=np.dstack(zero_imgs)\n",
    "zero_master=np.median(zero_cube,axis=2)"
   ]
  },
  {
   "cell_type": "code",
   "execution_count": 2,
   "metadata": {
    "collapsed": false
   },
   "outputs": [],
   "source": [
    "#makeing dark master\n",
    "from collections import Counter\n",
    "dark_exp=Counter([f[0].header['EXPTIME'] for f in frames if f[0].header['IMAGETYP'] == 'DARK'])\n",
    "all_exp=[f[0].header['EXPTIME'] for f in frames]# if f[0].header['IMAGETYP'] == 'DARK']\n",
    "\n",
    "dark_index=[np.where(np.array(all_exp) == k) for k in dark_exp]\n",
    "\n",
    "master_dk={}\n",
    "for dktime in dark_exp.keys():\n",
    "    dk_imgs=np.dstack([f[0].data for f in frames if (f[0].header['IMAGETYP'] == 'DARK') & (f[0].header['EXPTIME'] == dktime)])\n",
    "    dk_med=np.median(dk_imgs,axis=2)\n",
    "    if dktime not in master_dk:\n",
    "        master_dk[dktime]=dk_med\n"
   ]
  },
  {
   "cell_type": "code",
   "execution_count": null,
   "metadata": {
    "collapsed": false
   },
   "outputs": [],
   "source": []
  },
  {
   "cell_type": "code",
   "execution_count": 3,
   "metadata": {
    "collapsed": false
   },
   "outputs": [],
   "source": [
    "# making flat master\n",
    "flatfiles = [join('AutoFlat', f) for f in listdir('AutoFlat') if isfile(join('AutoFlat', f))]\n",
    "flatframes=np.array([fits.open(f) for f in flatfiles])\n",
    "flat_exp=Counter([f[0].header['FILTER'] for f in flatframes if f[0].header['IMAGETYP'] == 'FLAT'])\n",
    "allflat_exp=[f[0].header['FILTER'] for f in flatframes]# if f[0].header['IMAGETYP'] == 'DARK']\n",
    "flat_index=[np.where(np.array(allflat_exp) == k) for k in flat_exp]\n",
    "\n",
    "\n",
    "master_flat={}\n",
    "for fname in flat_exp.keys():\n",
    "    flat_imgs=np.dstack([(f[0].data-zero_master)/np.mean(f[0].data-zero_master) for f in flatframes if (f[0].header['IMAGETYP'] == 'FLAT') & (f[0].header['FILTER'] == fname)])\n",
    "    flat_med=np.median(flat_imgs,axis=2)\n",
    "    if fname not in master_flat:\n",
    "        master_flat[fname]=flat_med"
   ]
  },
  {
   "cell_type": "code",
   "execution_count": null,
   "metadata": {
    "collapsed": false
   },
   "outputs": [],
   "source": []
  },
  {
   "cell_type": "code",
   "execution_count": 4,
   "metadata": {
    "collapsed": false
   },
   "outputs": [],
   "source": [
    "objfiles = [join('pschiang', f) for f in listdir('pschiang') if isfile(join('pschiang', f))]\n",
    "objframes=np.array([fits.open(f) for f in objfiles])\n",
    "\n",
    "obj_exp=[f[0].header['EXPOSURE'] for f in objframes]\n",
    "objheaders = [f[0].header for f in objframes]"
   ]
  },
  {
   "cell_type": "code",
   "execution_count": 5,
   "metadata": {
    "collapsed": false
   },
   "outputs": [],
   "source": [
    "for f in objframes:\n",
    "    pheader=f[0].header\n",
    "    reduced_img=(f[0].data - master_dk[f[0].header['EXPTIME']])/master_flat[f[0].header['FILTER']]\n",
    "    pheader.set('BZERO',0)\n",
    "    pheader['comment'] = 'reduced by Poshih python pipeline'\n",
    "    outfits = fits.PrimaryHDU(data=reduced_img,header=pheader)\n",
    "    outfits.writeto('r_'+f[0].fileinfo()['file'].name.split('/')[1])"
   ]
  },
  {
   "cell_type": "code",
   "execution_count": null,
   "metadata": {
    "collapsed": false
   },
   "outputs": [],
   "source": [
    "objframes[0][0].fileinfo()['file'].name.split('/')[1]"
   ]
  },
  {
   "cell_type": "code",
   "execution_count": null,
   "metadata": {
    "collapsed": true
   },
   "outputs": [],
   "source": []
  }
 ],
 "metadata": {
  "anaconda-cloud": {},
  "kernelspec": {
   "display_name": "Python [conda env:python3]",
   "language": "python",
   "name": "conda-env-python3-py"
  },
  "language_info": {
   "codemirror_mode": {
    "name": "ipython",
    "version": 3
   },
   "file_extension": ".py",
   "mimetype": "text/x-python",
   "name": "python",
   "nbconvert_exporter": "python",
   "pygments_lexer": "ipython3",
   "version": "3.5.2"
  }
 },
 "nbformat": 4,
 "nbformat_minor": 1
}
